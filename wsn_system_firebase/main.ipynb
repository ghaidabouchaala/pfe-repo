{
 "cells": [
  {
   "cell_type": "code",
   "execution_count": null,
   "id": "86e8dafa",
   "metadata": {},
   "outputs": [],
   "source": [
    "import threading\n",
    "from data_processing_storage import data_processing_storage\n",
    "from anomaly_detection import detect_anomalies\n",
    "import time\n",
    "\n",
    "def main():\n",
    "\n",
    "    # Start data acquisition and processing in a separate thread\n",
    "    data_thread = threading.Thread(target=data_processing_storage, args=(900,))  # Run for 1 hour\n",
    "    data_thread.start()\n",
    "\n",
    "    # Wait for some time to let data acquisition to start\n",
    "    time.sleep(120)  # Wait for 3 minute\n",
    "\n",
    "    # Start anomaly detection threads for each sensor node\n",
    "    anomaly_threads = []\n",
    "    for i in range(1, 5):  # Assuming there are 4 sensor nodes\n",
    "        sensorTableName = 'sender' + str(i)\n",
    "        anomaly_thread = threading.Thread(target=detect_anomalies, args=(sensorTableName,))\n",
    "        anomaly_thread.start()\n",
    "        anomaly_threads.append(anomaly_thread)\n",
    "\n",
    "    # Wait for all threads to finish\n",
    "    data_thread.join()\n",
    "    for anomaly_thread in anomaly_threads:\n",
    "        anomaly_thread.join()\n",
    "\n",
    "    print(\"All tasks are done.\")\n",
    "\n",
    "if __name__ == \"__main__\":\n",
    "    main()\n"
   ]
  }
 ],
 "metadata": {
  "kernelspec": {
   "display_name": "Python 3 (ipykernel)",
   "language": "python",
   "name": "python3"
  },
  "language_info": {
   "codemirror_mode": {
    "name": "ipython",
    "version": 3
   },
   "file_extension": ".py",
   "mimetype": "text/x-python",
   "name": "python",
   "nbconvert_exporter": "python",
   "pygments_lexer": "ipython3",
   "version": "3.11.0"
  }
 },
 "nbformat": 4,
 "nbformat_minor": 5
}
